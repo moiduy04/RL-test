{
 "cells": [
  {
   "cell_type": "code",
   "execution_count": 1,
   "id": "937444cd",
   "metadata": {},
   "outputs": [],
   "source": [
    "# !python --version"
   ]
  },
  {
   "cell_type": "code",
   "execution_count": 2,
   "id": "61734299",
   "metadata": {},
   "outputs": [],
   "source": [
    "# !pip install gym[all]"
   ]
  },
  {
   "cell_type": "code",
   "execution_count": 3,
   "id": "b1c1cec5",
   "metadata": {},
   "outputs": [],
   "source": [
    "# !pip install stable-baselines3[extra]"
   ]
  },
  {
   "cell_type": "code",
   "execution_count": 4,
   "id": "61f92034",
   "metadata": {},
   "outputs": [],
   "source": [
    "import os\n",
    "import gym"
   ]
  },
  {
   "cell_type": "code",
   "execution_count": 5,
   "id": "6a35fd0f",
   "metadata": {},
   "outputs": [],
   "source": [
    "environment = \"CartPole-v0\"\n",
    "env = gym.make(environment)"
   ]
  },
  {
   "cell_type": "code",
   "execution_count": 6,
   "id": "9a4eba8c",
   "metadata": {},
   "outputs": [],
   "source": [
    "def random_actions():\n",
    "    episodes = 5\n",
    "    for episode in range(episodes):\n",
    "        state = env.reset()\n",
    "        done = False\n",
    "        score = 0\n",
    "\n",
    "        while not done:\n",
    "            env.render()\n",
    "            action = env.action_space.sample()\n",
    "            nxt_state, reward, done, info = env.step(action)\n",
    "            score += reward\n",
    "        print(f'Episode: {episode+1}  Score: {score}')\n",
    "    env.close()\n",
    "# random_actions()"
   ]
  },
  {
   "cell_type": "code",
   "execution_count": 7,
   "id": "ecdd7c56",
   "metadata": {},
   "outputs": [],
   "source": [
    "from stable_baselines3 import PPO\n",
    "from stable_baselines3.common.vec_env import DummyVecEnv"
   ]
  },
  {
   "cell_type": "code",
   "execution_count": 8,
   "id": "33f2f070",
   "metadata": {},
   "outputs": [],
   "source": [
    "log_path = os.path.join(\"Training\", \"Logs\")"
   ]
  },
  {
   "cell_type": "code",
   "execution_count": 9,
   "id": "6e3d10cf",
   "metadata": {},
   "outputs": [
    {
     "name": "stdout",
     "output_type": "stream",
     "text": [
      "Using cpu device\n"
     ]
    }
   ],
   "source": [
    "env = gym.make(environment)\n",
    "env = DummyVecEnv([lambda: env])\n",
    "model = PPO('MlpPolicy', env, verbose = 1, tensorboard_log = log_path)\n",
    "# Multi Layer Perceptron Policy"
   ]
  },
  {
   "cell_type": "code",
   "execution_count": 10,
   "id": "df7f041f",
   "metadata": {},
   "outputs": [],
   "source": [
    "# PPO??"
   ]
  },
  {
   "cell_type": "code",
   "execution_count": 11,
   "id": "a113d62c",
   "metadata": {
    "scrolled": true
   },
   "outputs": [],
   "source": [
    "# model.learn(total_timesteps = 20000)"
   ]
  },
  {
   "cell_type": "code",
   "execution_count": 12,
   "id": "efab1fab",
   "metadata": {},
   "outputs": [],
   "source": [
    "## Save model"
   ]
  },
  {
   "cell_type": "code",
   "execution_count": 13,
   "id": "72505005",
   "metadata": {},
   "outputs": [],
   "source": [
    "PPO_path = os.path.join(\"Training\", \"Saved Models\", \"PPO_Cartpole_2105\")"
   ]
  },
  {
   "cell_type": "code",
   "execution_count": 14,
   "id": "98f2433a",
   "metadata": {},
   "outputs": [],
   "source": [
    "# model.save(PPO_path)"
   ]
  },
  {
   "cell_type": "code",
   "execution_count": 15,
   "id": "77f93c3c",
   "metadata": {},
   "outputs": [],
   "source": [
    "model = PPO.load(PPO_path, env = env)"
   ]
  },
  {
   "cell_type": "code",
   "execution_count": 16,
   "id": "a680deb7",
   "metadata": {},
   "outputs": [],
   "source": [
    "## Evaluate model"
   ]
  },
  {
   "cell_type": "code",
   "execution_count": 17,
   "id": "e9aa4bc8",
   "metadata": {},
   "outputs": [],
   "source": [
    "from stable_baselines3.common.evaluation import evaluate_policy"
   ]
  },
  {
   "cell_type": "code",
   "execution_count": 18,
   "id": "2e632066",
   "metadata": {},
   "outputs": [
    {
     "name": "stderr",
     "output_type": "stream",
     "text": [
      "C:\\Users\\APC\\miniconda3\\envs\\RL-kernel\\lib\\site-packages\\stable_baselines3\\common\\evaluation.py:67: UserWarning: Evaluation environment is not wrapped with a ``Monitor`` wrapper. This may result in reporting modified episode lengths and rewards, if other wrappers happen to modify these. Consider wrapping environment first with ``Monitor`` wrapper.\n",
      "  warnings.warn(\n"
     ]
    }
   ],
   "source": [
    "evaluate_policy(model, env, n_eval_episodes = 5, render = True)\n",
    "env.close()\n",
    "#Output = (average reward, standard deviation)"
   ]
  },
  {
   "cell_type": "code",
   "execution_count": 19,
   "id": "834f11fe",
   "metadata": {},
   "outputs": [],
   "source": [
    "## Test model"
   ]
  },
  {
   "cell_type": "code",
   "execution_count": 20,
   "id": "9436a513",
   "metadata": {},
   "outputs": [
    {
     "name": "stdout",
     "output_type": "stream",
     "text": [
      "Episode: 1  Score: [200.]\n",
      "Episode: 2  Score: [200.]\n",
      "Episode: 3  Score: [200.]\n",
      "Episode: 4  Score: [200.]\n",
      "Episode: 5  Score: [200.]\n"
     ]
    }
   ],
   "source": [
    "episodes = 5\n",
    "for episode in range(episodes):\n",
    "    obs = env.reset()\n",
    "    done = False\n",
    "    score = 0\n",
    "    \n",
    "    while not done:\n",
    "        env.render()\n",
    "        action, _ = model.predict(obs)\n",
    "        obs, reward, done, info = env.step(action)\n",
    "        score += reward\n",
    "    print(f'Episode: {episode+1}  Score: {score}')\n",
    "env.close()"
   ]
  },
  {
   "cell_type": "code",
   "execution_count": null,
   "id": "4be5832e",
   "metadata": {},
   "outputs": [],
   "source": []
  }
 ],
 "metadata": {
  "kernelspec": {
   "display_name": "RL-kernel",
   "language": "python",
   "name": "rl-kernel"
  },
  "language_info": {
   "codemirror_mode": {
    "name": "ipython",
    "version": 3
   },
   "file_extension": ".py",
   "mimetype": "text/x-python",
   "name": "python",
   "nbconvert_exporter": "python",
   "pygments_lexer": "ipython3",
   "version": "3.9.16"
  }
 },
 "nbformat": 4,
 "nbformat_minor": 5
}
